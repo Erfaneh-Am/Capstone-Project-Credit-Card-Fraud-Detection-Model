{
 "cells": [
  {
   "cell_type": "code",
   "execution_count": 1,
   "id": "58a85416",
   "metadata": {},
   "outputs": [],
   "source": [
    "#Import pandas, matplotlib.pyplot, and seaborn\n",
    "import pandas as pd\n",
    "import numpy as np\n",
    "import matplotlib.pyplot as plt\n",
    "import seaborn as sns\n",
    "import os\n",
    "import time\n",
    "\n",
    "from datetime import datetime\n",
    "from library.sb_utils import save_file\n",
    "\n"
   ]
  },
  {
   "cell_type": "code",
   "execution_count": 2,
   "id": "c61fad44",
   "metadata": {},
   "outputs": [],
   "source": [
    "#Upload the CSV file from the RawData directory\n",
    "train_data = pd.read_csv('../RawData/fraudTrain.csv')"
   ]
  },
  {
   "cell_type": "code",
   "execution_count": 3,
   "id": "b0196f25",
   "metadata": {
    "scrolled": false
   },
   "outputs": [
    {
     "data": {
      "text/html": [
       "<div>\n",
       "<style scoped>\n",
       "    .dataframe tbody tr th:only-of-type {\n",
       "        vertical-align: middle;\n",
       "    }\n",
       "\n",
       "    .dataframe tbody tr th {\n",
       "        vertical-align: top;\n",
       "    }\n",
       "\n",
       "    .dataframe thead th {\n",
       "        text-align: right;\n",
       "    }\n",
       "</style>\n",
       "<table border=\"1\" class=\"dataframe\">\n",
       "  <thead>\n",
       "    <tr style=\"text-align: right;\">\n",
       "      <th></th>\n",
       "      <th>Unnamed: 0</th>\n",
       "      <th>trans_date_trans_time</th>\n",
       "      <th>cc_num</th>\n",
       "      <th>merchant</th>\n",
       "      <th>category</th>\n",
       "      <th>amt</th>\n",
       "      <th>first</th>\n",
       "      <th>last</th>\n",
       "      <th>gender</th>\n",
       "      <th>street</th>\n",
       "      <th>...</th>\n",
       "      <th>lat</th>\n",
       "      <th>long</th>\n",
       "      <th>city_pop</th>\n",
       "      <th>job</th>\n",
       "      <th>dob</th>\n",
       "      <th>trans_num</th>\n",
       "      <th>unix_time</th>\n",
       "      <th>merch_lat</th>\n",
       "      <th>merch_long</th>\n",
       "      <th>is_fraud</th>\n",
       "    </tr>\n",
       "  </thead>\n",
       "  <tbody>\n",
       "    <tr>\n",
       "      <th>0</th>\n",
       "      <td>0</td>\n",
       "      <td>2019-01-01 00:00:18</td>\n",
       "      <td>2703186189652095</td>\n",
       "      <td>fraud_Rippin, Kub and Mann</td>\n",
       "      <td>misc_net</td>\n",
       "      <td>4.97</td>\n",
       "      <td>Jennifer</td>\n",
       "      <td>Banks</td>\n",
       "      <td>F</td>\n",
       "      <td>561 Perry Cove</td>\n",
       "      <td>...</td>\n",
       "      <td>36.0788</td>\n",
       "      <td>-81.1781</td>\n",
       "      <td>3495</td>\n",
       "      <td>Psychologist, counselling</td>\n",
       "      <td>1988-03-09</td>\n",
       "      <td>0b242abb623afc578575680df30655b9</td>\n",
       "      <td>1325376018</td>\n",
       "      <td>36.011293</td>\n",
       "      <td>-82.048315</td>\n",
       "      <td>0</td>\n",
       "    </tr>\n",
       "    <tr>\n",
       "      <th>1</th>\n",
       "      <td>1</td>\n",
       "      <td>2019-01-01 00:00:44</td>\n",
       "      <td>630423337322</td>\n",
       "      <td>fraud_Heller, Gutmann and Zieme</td>\n",
       "      <td>grocery_pos</td>\n",
       "      <td>107.23</td>\n",
       "      <td>Stephanie</td>\n",
       "      <td>Gill</td>\n",
       "      <td>F</td>\n",
       "      <td>43039 Riley Greens Suite 393</td>\n",
       "      <td>...</td>\n",
       "      <td>48.8878</td>\n",
       "      <td>-118.2105</td>\n",
       "      <td>149</td>\n",
       "      <td>Special educational needs teacher</td>\n",
       "      <td>1978-06-21</td>\n",
       "      <td>1f76529f8574734946361c461b024d99</td>\n",
       "      <td>1325376044</td>\n",
       "      <td>49.159047</td>\n",
       "      <td>-118.186462</td>\n",
       "      <td>0</td>\n",
       "    </tr>\n",
       "    <tr>\n",
       "      <th>2</th>\n",
       "      <td>2</td>\n",
       "      <td>2019-01-01 00:00:51</td>\n",
       "      <td>38859492057661</td>\n",
       "      <td>fraud_Lind-Buckridge</td>\n",
       "      <td>entertainment</td>\n",
       "      <td>220.11</td>\n",
       "      <td>Edward</td>\n",
       "      <td>Sanchez</td>\n",
       "      <td>M</td>\n",
       "      <td>594 White Dale Suite 530</td>\n",
       "      <td>...</td>\n",
       "      <td>42.1808</td>\n",
       "      <td>-112.2620</td>\n",
       "      <td>4154</td>\n",
       "      <td>Nature conservation officer</td>\n",
       "      <td>1962-01-19</td>\n",
       "      <td>a1a22d70485983eac12b5b88dad1cf95</td>\n",
       "      <td>1325376051</td>\n",
       "      <td>43.150704</td>\n",
       "      <td>-112.154481</td>\n",
       "      <td>0</td>\n",
       "    </tr>\n",
       "    <tr>\n",
       "      <th>3</th>\n",
       "      <td>3</td>\n",
       "      <td>2019-01-01 00:01:16</td>\n",
       "      <td>3534093764340240</td>\n",
       "      <td>fraud_Kutch, Hermiston and Farrell</td>\n",
       "      <td>gas_transport</td>\n",
       "      <td>45.00</td>\n",
       "      <td>Jeremy</td>\n",
       "      <td>White</td>\n",
       "      <td>M</td>\n",
       "      <td>9443 Cynthia Court Apt. 038</td>\n",
       "      <td>...</td>\n",
       "      <td>46.2306</td>\n",
       "      <td>-112.1138</td>\n",
       "      <td>1939</td>\n",
       "      <td>Patent attorney</td>\n",
       "      <td>1967-01-12</td>\n",
       "      <td>6b849c168bdad6f867558c3793159a81</td>\n",
       "      <td>1325376076</td>\n",
       "      <td>47.034331</td>\n",
       "      <td>-112.561071</td>\n",
       "      <td>0</td>\n",
       "    </tr>\n",
       "    <tr>\n",
       "      <th>4</th>\n",
       "      <td>4</td>\n",
       "      <td>2019-01-01 00:03:06</td>\n",
       "      <td>375534208663984</td>\n",
       "      <td>fraud_Keeling-Crist</td>\n",
       "      <td>misc_pos</td>\n",
       "      <td>41.96</td>\n",
       "      <td>Tyler</td>\n",
       "      <td>Garcia</td>\n",
       "      <td>M</td>\n",
       "      <td>408 Bradley Rest</td>\n",
       "      <td>...</td>\n",
       "      <td>38.4207</td>\n",
       "      <td>-79.4629</td>\n",
       "      <td>99</td>\n",
       "      <td>Dance movement psychotherapist</td>\n",
       "      <td>1986-03-28</td>\n",
       "      <td>a41d7549acf90789359a9aa5346dcb46</td>\n",
       "      <td>1325376186</td>\n",
       "      <td>38.674999</td>\n",
       "      <td>-78.632459</td>\n",
       "      <td>0</td>\n",
       "    </tr>\n",
       "  </tbody>\n",
       "</table>\n",
       "<p>5 rows × 23 columns</p>\n",
       "</div>"
      ],
      "text/plain": [
       "   Unnamed: 0 trans_date_trans_time            cc_num  \\\n",
       "0           0   2019-01-01 00:00:18  2703186189652095   \n",
       "1           1   2019-01-01 00:00:44      630423337322   \n",
       "2           2   2019-01-01 00:00:51    38859492057661   \n",
       "3           3   2019-01-01 00:01:16  3534093764340240   \n",
       "4           4   2019-01-01 00:03:06   375534208663984   \n",
       "\n",
       "                             merchant       category     amt      first  \\\n",
       "0          fraud_Rippin, Kub and Mann       misc_net    4.97   Jennifer   \n",
       "1     fraud_Heller, Gutmann and Zieme    grocery_pos  107.23  Stephanie   \n",
       "2                fraud_Lind-Buckridge  entertainment  220.11     Edward   \n",
       "3  fraud_Kutch, Hermiston and Farrell  gas_transport   45.00     Jeremy   \n",
       "4                 fraud_Keeling-Crist       misc_pos   41.96      Tyler   \n",
       "\n",
       "      last gender                        street  ...      lat      long  \\\n",
       "0    Banks      F                561 Perry Cove  ...  36.0788  -81.1781   \n",
       "1     Gill      F  43039 Riley Greens Suite 393  ...  48.8878 -118.2105   \n",
       "2  Sanchez      M      594 White Dale Suite 530  ...  42.1808 -112.2620   \n",
       "3    White      M   9443 Cynthia Court Apt. 038  ...  46.2306 -112.1138   \n",
       "4   Garcia      M              408 Bradley Rest  ...  38.4207  -79.4629   \n",
       "\n",
       "   city_pop                                job         dob  \\\n",
       "0      3495          Psychologist, counselling  1988-03-09   \n",
       "1       149  Special educational needs teacher  1978-06-21   \n",
       "2      4154        Nature conservation officer  1962-01-19   \n",
       "3      1939                    Patent attorney  1967-01-12   \n",
       "4        99     Dance movement psychotherapist  1986-03-28   \n",
       "\n",
       "                          trans_num   unix_time  merch_lat  merch_long  \\\n",
       "0  0b242abb623afc578575680df30655b9  1325376018  36.011293  -82.048315   \n",
       "1  1f76529f8574734946361c461b024d99  1325376044  49.159047 -118.186462   \n",
       "2  a1a22d70485983eac12b5b88dad1cf95  1325376051  43.150704 -112.154481   \n",
       "3  6b849c168bdad6f867558c3793159a81  1325376076  47.034331 -112.561071   \n",
       "4  a41d7549acf90789359a9aa5346dcb46  1325376186  38.674999  -78.632459   \n",
       "\n",
       "   is_fraud  \n",
       "0         0  \n",
       "1         0  \n",
       "2         0  \n",
       "3         0  \n",
       "4         0  \n",
       "\n",
       "[5 rows x 23 columns]"
      ]
     },
     "execution_count": 3,
     "metadata": {},
     "output_type": "execute_result"
    }
   ],
   "source": [
    "#Call the head method on train_data to print the first several rows of the data\n",
    "train_data.head()"
   ]
  },
  {
   "cell_type": "code",
   "execution_count": 4,
   "id": "3f7647d3",
   "metadata": {},
   "outputs": [
    {
     "name": "stdout",
     "output_type": "stream",
     "text": [
      "<class 'pandas.core.frame.DataFrame'>\n",
      "RangeIndex: 1296675 entries, 0 to 1296674\n",
      "Data columns (total 23 columns):\n",
      " #   Column                 Non-Null Count    Dtype  \n",
      "---  ------                 --------------    -----  \n",
      " 0   Unnamed: 0             1296675 non-null  int64  \n",
      " 1   trans_date_trans_time  1296675 non-null  object \n",
      " 2   cc_num                 1296675 non-null  int64  \n",
      " 3   merchant               1296675 non-null  object \n",
      " 4   category               1296675 non-null  object \n",
      " 5   amt                    1296675 non-null  float64\n",
      " 6   first                  1296675 non-null  object \n",
      " 7   last                   1296675 non-null  object \n",
      " 8   gender                 1296675 non-null  object \n",
      " 9   street                 1296675 non-null  object \n",
      " 10  city                   1296675 non-null  object \n",
      " 11  state                  1296675 non-null  object \n",
      " 12  zip                    1296675 non-null  int64  \n",
      " 13  lat                    1296675 non-null  float64\n",
      " 14  long                   1296675 non-null  float64\n",
      " 15  city_pop               1296675 non-null  int64  \n",
      " 16  job                    1296675 non-null  object \n",
      " 17  dob                    1296675 non-null  object \n",
      " 18  trans_num              1296675 non-null  object \n",
      " 19  unix_time              1296675 non-null  int64  \n",
      " 20  merch_lat              1296675 non-null  float64\n",
      " 21  merch_long             1296675 non-null  float64\n",
      " 22  is_fraud               1296675 non-null  int64  \n",
      "dtypes: float64(5), int64(6), object(12)\n",
      "memory usage: 227.5+ MB\n"
     ]
    }
   ],
   "source": [
    "#Call the info method on train_data to see a summary of the data\n",
    "train_data.info()"
   ]
  },
  {
   "cell_type": "markdown",
   "id": "ec8c9592",
   "metadata": {},
   "source": [
    "There is no missing value in the data. Our target feature is `is_fraud`. The column headings are plausible. "
   ]
  },
  {
   "cell_type": "code",
   "execution_count": 5,
   "id": "d04b4c70",
   "metadata": {},
   "outputs": [
    {
     "name": "stdout",
     "output_type": "stream",
     "text": [
      "<bound method Series.unique of 0                0\n",
      "1                1\n",
      "2                2\n",
      "3                3\n",
      "4                4\n",
      "            ...   \n",
      "1296670    1296670\n",
      "1296671    1296671\n",
      "1296672    1296672\n",
      "1296673    1296673\n",
      "1296674    1296674\n",
      "Name: Unnamed: 0, Length: 1296675, dtype: int64>\n",
      "1296674\n",
      "0\n"
     ]
    }
   ],
   "source": [
    "#check the values in `Unnamed: 0` column and if it can be removed from the dataset\n",
    "print(train_data['Unnamed: 0'].unique)\n",
    "print(train_data['Unnamed: 0'].max())\n",
    "print(train_data['Unnamed: 0'].min())"
   ]
  },
  {
   "cell_type": "markdown",
   "id": "24691abc",
   "metadata": {},
   "source": [
    "There are 1296675 unique values from 0 to 1296674, therefore this column has the same values an index and can be removed from the dataset. "
   ]
  },
  {
   "cell_type": "code",
   "execution_count": 6,
   "id": "ebff4266",
   "metadata": {},
   "outputs": [
    {
     "data": {
      "text/html": [
       "<div>\n",
       "<style scoped>\n",
       "    .dataframe tbody tr th:only-of-type {\n",
       "        vertical-align: middle;\n",
       "    }\n",
       "\n",
       "    .dataframe tbody tr th {\n",
       "        vertical-align: top;\n",
       "    }\n",
       "\n",
       "    .dataframe thead th {\n",
       "        text-align: right;\n",
       "    }\n",
       "</style>\n",
       "<table border=\"1\" class=\"dataframe\">\n",
       "  <thead>\n",
       "    <tr style=\"text-align: right;\">\n",
       "      <th></th>\n",
       "      <th>trans_date_trans_time</th>\n",
       "      <th>cc_num</th>\n",
       "      <th>merchant</th>\n",
       "      <th>category</th>\n",
       "      <th>amt</th>\n",
       "      <th>first</th>\n",
       "      <th>last</th>\n",
       "      <th>gender</th>\n",
       "      <th>street</th>\n",
       "      <th>city</th>\n",
       "      <th>...</th>\n",
       "      <th>lat</th>\n",
       "      <th>long</th>\n",
       "      <th>city_pop</th>\n",
       "      <th>job</th>\n",
       "      <th>dob</th>\n",
       "      <th>trans_num</th>\n",
       "      <th>unix_time</th>\n",
       "      <th>merch_lat</th>\n",
       "      <th>merch_long</th>\n",
       "      <th>is_fraud</th>\n",
       "    </tr>\n",
       "  </thead>\n",
       "  <tbody>\n",
       "    <tr>\n",
       "      <th>0</th>\n",
       "      <td>2019-01-01 00:00:18</td>\n",
       "      <td>2703186189652095</td>\n",
       "      <td>fraud_Rippin, Kub and Mann</td>\n",
       "      <td>misc_net</td>\n",
       "      <td>4.97</td>\n",
       "      <td>Jennifer</td>\n",
       "      <td>Banks</td>\n",
       "      <td>F</td>\n",
       "      <td>561 Perry Cove</td>\n",
       "      <td>Moravian Falls</td>\n",
       "      <td>...</td>\n",
       "      <td>36.0788</td>\n",
       "      <td>-81.1781</td>\n",
       "      <td>3495</td>\n",
       "      <td>Psychologist, counselling</td>\n",
       "      <td>1988-03-09</td>\n",
       "      <td>0b242abb623afc578575680df30655b9</td>\n",
       "      <td>1325376018</td>\n",
       "      <td>36.011293</td>\n",
       "      <td>-82.048315</td>\n",
       "      <td>0</td>\n",
       "    </tr>\n",
       "    <tr>\n",
       "      <th>1</th>\n",
       "      <td>2019-01-01 00:00:44</td>\n",
       "      <td>630423337322</td>\n",
       "      <td>fraud_Heller, Gutmann and Zieme</td>\n",
       "      <td>grocery_pos</td>\n",
       "      <td>107.23</td>\n",
       "      <td>Stephanie</td>\n",
       "      <td>Gill</td>\n",
       "      <td>F</td>\n",
       "      <td>43039 Riley Greens Suite 393</td>\n",
       "      <td>Orient</td>\n",
       "      <td>...</td>\n",
       "      <td>48.8878</td>\n",
       "      <td>-118.2105</td>\n",
       "      <td>149</td>\n",
       "      <td>Special educational needs teacher</td>\n",
       "      <td>1978-06-21</td>\n",
       "      <td>1f76529f8574734946361c461b024d99</td>\n",
       "      <td>1325376044</td>\n",
       "      <td>49.159047</td>\n",
       "      <td>-118.186462</td>\n",
       "      <td>0</td>\n",
       "    </tr>\n",
       "    <tr>\n",
       "      <th>2</th>\n",
       "      <td>2019-01-01 00:00:51</td>\n",
       "      <td>38859492057661</td>\n",
       "      <td>fraud_Lind-Buckridge</td>\n",
       "      <td>entertainment</td>\n",
       "      <td>220.11</td>\n",
       "      <td>Edward</td>\n",
       "      <td>Sanchez</td>\n",
       "      <td>M</td>\n",
       "      <td>594 White Dale Suite 530</td>\n",
       "      <td>Malad City</td>\n",
       "      <td>...</td>\n",
       "      <td>42.1808</td>\n",
       "      <td>-112.2620</td>\n",
       "      <td>4154</td>\n",
       "      <td>Nature conservation officer</td>\n",
       "      <td>1962-01-19</td>\n",
       "      <td>a1a22d70485983eac12b5b88dad1cf95</td>\n",
       "      <td>1325376051</td>\n",
       "      <td>43.150704</td>\n",
       "      <td>-112.154481</td>\n",
       "      <td>0</td>\n",
       "    </tr>\n",
       "    <tr>\n",
       "      <th>3</th>\n",
       "      <td>2019-01-01 00:01:16</td>\n",
       "      <td>3534093764340240</td>\n",
       "      <td>fraud_Kutch, Hermiston and Farrell</td>\n",
       "      <td>gas_transport</td>\n",
       "      <td>45.00</td>\n",
       "      <td>Jeremy</td>\n",
       "      <td>White</td>\n",
       "      <td>M</td>\n",
       "      <td>9443 Cynthia Court Apt. 038</td>\n",
       "      <td>Boulder</td>\n",
       "      <td>...</td>\n",
       "      <td>46.2306</td>\n",
       "      <td>-112.1138</td>\n",
       "      <td>1939</td>\n",
       "      <td>Patent attorney</td>\n",
       "      <td>1967-01-12</td>\n",
       "      <td>6b849c168bdad6f867558c3793159a81</td>\n",
       "      <td>1325376076</td>\n",
       "      <td>47.034331</td>\n",
       "      <td>-112.561071</td>\n",
       "      <td>0</td>\n",
       "    </tr>\n",
       "    <tr>\n",
       "      <th>4</th>\n",
       "      <td>2019-01-01 00:03:06</td>\n",
       "      <td>375534208663984</td>\n",
       "      <td>fraud_Keeling-Crist</td>\n",
       "      <td>misc_pos</td>\n",
       "      <td>41.96</td>\n",
       "      <td>Tyler</td>\n",
       "      <td>Garcia</td>\n",
       "      <td>M</td>\n",
       "      <td>408 Bradley Rest</td>\n",
       "      <td>Doe Hill</td>\n",
       "      <td>...</td>\n",
       "      <td>38.4207</td>\n",
       "      <td>-79.4629</td>\n",
       "      <td>99</td>\n",
       "      <td>Dance movement psychotherapist</td>\n",
       "      <td>1986-03-28</td>\n",
       "      <td>a41d7549acf90789359a9aa5346dcb46</td>\n",
       "      <td>1325376186</td>\n",
       "      <td>38.674999</td>\n",
       "      <td>-78.632459</td>\n",
       "      <td>0</td>\n",
       "    </tr>\n",
       "  </tbody>\n",
       "</table>\n",
       "<p>5 rows × 22 columns</p>\n",
       "</div>"
      ],
      "text/plain": [
       "  trans_date_trans_time            cc_num                            merchant  \\\n",
       "0   2019-01-01 00:00:18  2703186189652095          fraud_Rippin, Kub and Mann   \n",
       "1   2019-01-01 00:00:44      630423337322     fraud_Heller, Gutmann and Zieme   \n",
       "2   2019-01-01 00:00:51    38859492057661                fraud_Lind-Buckridge   \n",
       "3   2019-01-01 00:01:16  3534093764340240  fraud_Kutch, Hermiston and Farrell   \n",
       "4   2019-01-01 00:03:06   375534208663984                 fraud_Keeling-Crist   \n",
       "\n",
       "        category     amt      first     last gender  \\\n",
       "0       misc_net    4.97   Jennifer    Banks      F   \n",
       "1    grocery_pos  107.23  Stephanie     Gill      F   \n",
       "2  entertainment  220.11     Edward  Sanchez      M   \n",
       "3  gas_transport   45.00     Jeremy    White      M   \n",
       "4       misc_pos   41.96      Tyler   Garcia      M   \n",
       "\n",
       "                         street            city  ...      lat      long  \\\n",
       "0                561 Perry Cove  Moravian Falls  ...  36.0788  -81.1781   \n",
       "1  43039 Riley Greens Suite 393          Orient  ...  48.8878 -118.2105   \n",
       "2      594 White Dale Suite 530      Malad City  ...  42.1808 -112.2620   \n",
       "3   9443 Cynthia Court Apt. 038         Boulder  ...  46.2306 -112.1138   \n",
       "4              408 Bradley Rest        Doe Hill  ...  38.4207  -79.4629   \n",
       "\n",
       "   city_pop                                job         dob  \\\n",
       "0      3495          Psychologist, counselling  1988-03-09   \n",
       "1       149  Special educational needs teacher  1978-06-21   \n",
       "2      4154        Nature conservation officer  1962-01-19   \n",
       "3      1939                    Patent attorney  1967-01-12   \n",
       "4        99     Dance movement psychotherapist  1986-03-28   \n",
       "\n",
       "                          trans_num   unix_time  merch_lat  merch_long  \\\n",
       "0  0b242abb623afc578575680df30655b9  1325376018  36.011293  -82.048315   \n",
       "1  1f76529f8574734946361c461b024d99  1325376044  49.159047 -118.186462   \n",
       "2  a1a22d70485983eac12b5b88dad1cf95  1325376051  43.150704 -112.154481   \n",
       "3  6b849c168bdad6f867558c3793159a81  1325376076  47.034331 -112.561071   \n",
       "4  a41d7549acf90789359a9aa5346dcb46  1325376186  38.674999  -78.632459   \n",
       "\n",
       "   is_fraud  \n",
       "0         0  \n",
       "1         0  \n",
       "2         0  \n",
       "3         0  \n",
       "4         0  \n",
       "\n",
       "[5 rows x 22 columns]"
      ]
     },
     "execution_count": 6,
     "metadata": {},
     "output_type": "execute_result"
    }
   ],
   "source": [
    "#Drop the \"Unnamed: 0\" column since it does not add any information \n",
    "train_data.drop(columns= 'Unnamed: 0', inplace=True)\n",
    "train_data.head()"
   ]
  },
  {
   "cell_type": "code",
   "execution_count": 7,
   "id": "e5b5128a",
   "metadata": {},
   "outputs": [],
   "source": [
    "#convert trans_date_trans_time object and dob object to datetime \n",
    "\n",
    "train_data['trans_date_trans_time']= pd.to_datetime(train_data['trans_date_trans_time'])\n",
    "train_data['dob']= pd.to_datetime(train_data['dob'])"
   ]
  },
  {
   "cell_type": "code",
   "execution_count": 8,
   "id": "0da38a2c",
   "metadata": {},
   "outputs": [
    {
     "data": {
      "text/html": [
       "<div>\n",
       "<style scoped>\n",
       "    .dataframe tbody tr th:only-of-type {\n",
       "        vertical-align: middle;\n",
       "    }\n",
       "\n",
       "    .dataframe tbody tr th {\n",
       "        vertical-align: top;\n",
       "    }\n",
       "\n",
       "    .dataframe thead th {\n",
       "        text-align: right;\n",
       "    }\n",
       "</style>\n",
       "<table border=\"1\" class=\"dataframe\">\n",
       "  <thead>\n",
       "    <tr style=\"text-align: right;\">\n",
       "      <th></th>\n",
       "      <th>trans_date_trans_time</th>\n",
       "      <th>cc_num</th>\n",
       "      <th>merchant</th>\n",
       "      <th>category</th>\n",
       "      <th>amt</th>\n",
       "      <th>first</th>\n",
       "      <th>last</th>\n",
       "      <th>gender</th>\n",
       "      <th>street</th>\n",
       "      <th>city</th>\n",
       "      <th>...</th>\n",
       "      <th>lat</th>\n",
       "      <th>long</th>\n",
       "      <th>city_pop</th>\n",
       "      <th>job</th>\n",
       "      <th>dob</th>\n",
       "      <th>trans_num</th>\n",
       "      <th>unix_time</th>\n",
       "      <th>merch_lat</th>\n",
       "      <th>merch_long</th>\n",
       "      <th>is_fraud</th>\n",
       "    </tr>\n",
       "  </thead>\n",
       "  <tbody>\n",
       "    <tr>\n",
       "      <th>0</th>\n",
       "      <td>2019-01-01 00:00:18</td>\n",
       "      <td>2703186189652095</td>\n",
       "      <td>fraud_Rippin, Kub and Mann</td>\n",
       "      <td>misc_net</td>\n",
       "      <td>4.97</td>\n",
       "      <td>Jennifer</td>\n",
       "      <td>Banks</td>\n",
       "      <td>F</td>\n",
       "      <td>561 Perry Cove</td>\n",
       "      <td>Moravian Falls</td>\n",
       "      <td>...</td>\n",
       "      <td>36.0788</td>\n",
       "      <td>-81.1781</td>\n",
       "      <td>3495</td>\n",
       "      <td>Psychologist, counselling</td>\n",
       "      <td>1988-03-09</td>\n",
       "      <td>0b242abb623afc578575680df30655b9</td>\n",
       "      <td>2012-01-01 00:00:18</td>\n",
       "      <td>36.011293</td>\n",
       "      <td>-82.048315</td>\n",
       "      <td>0</td>\n",
       "    </tr>\n",
       "    <tr>\n",
       "      <th>1</th>\n",
       "      <td>2019-01-01 00:00:44</td>\n",
       "      <td>630423337322</td>\n",
       "      <td>fraud_Heller, Gutmann and Zieme</td>\n",
       "      <td>grocery_pos</td>\n",
       "      <td>107.23</td>\n",
       "      <td>Stephanie</td>\n",
       "      <td>Gill</td>\n",
       "      <td>F</td>\n",
       "      <td>43039 Riley Greens Suite 393</td>\n",
       "      <td>Orient</td>\n",
       "      <td>...</td>\n",
       "      <td>48.8878</td>\n",
       "      <td>-118.2105</td>\n",
       "      <td>149</td>\n",
       "      <td>Special educational needs teacher</td>\n",
       "      <td>1978-06-21</td>\n",
       "      <td>1f76529f8574734946361c461b024d99</td>\n",
       "      <td>2012-01-01 00:00:44</td>\n",
       "      <td>49.159047</td>\n",
       "      <td>-118.186462</td>\n",
       "      <td>0</td>\n",
       "    </tr>\n",
       "    <tr>\n",
       "      <th>2</th>\n",
       "      <td>2019-01-01 00:00:51</td>\n",
       "      <td>38859492057661</td>\n",
       "      <td>fraud_Lind-Buckridge</td>\n",
       "      <td>entertainment</td>\n",
       "      <td>220.11</td>\n",
       "      <td>Edward</td>\n",
       "      <td>Sanchez</td>\n",
       "      <td>M</td>\n",
       "      <td>594 White Dale Suite 530</td>\n",
       "      <td>Malad City</td>\n",
       "      <td>...</td>\n",
       "      <td>42.1808</td>\n",
       "      <td>-112.2620</td>\n",
       "      <td>4154</td>\n",
       "      <td>Nature conservation officer</td>\n",
       "      <td>1962-01-19</td>\n",
       "      <td>a1a22d70485983eac12b5b88dad1cf95</td>\n",
       "      <td>2012-01-01 00:00:51</td>\n",
       "      <td>43.150704</td>\n",
       "      <td>-112.154481</td>\n",
       "      <td>0</td>\n",
       "    </tr>\n",
       "    <tr>\n",
       "      <th>3</th>\n",
       "      <td>2019-01-01 00:01:16</td>\n",
       "      <td>3534093764340240</td>\n",
       "      <td>fraud_Kutch, Hermiston and Farrell</td>\n",
       "      <td>gas_transport</td>\n",
       "      <td>45.00</td>\n",
       "      <td>Jeremy</td>\n",
       "      <td>White</td>\n",
       "      <td>M</td>\n",
       "      <td>9443 Cynthia Court Apt. 038</td>\n",
       "      <td>Boulder</td>\n",
       "      <td>...</td>\n",
       "      <td>46.2306</td>\n",
       "      <td>-112.1138</td>\n",
       "      <td>1939</td>\n",
       "      <td>Patent attorney</td>\n",
       "      <td>1967-01-12</td>\n",
       "      <td>6b849c168bdad6f867558c3793159a81</td>\n",
       "      <td>2012-01-01 00:01:16</td>\n",
       "      <td>47.034331</td>\n",
       "      <td>-112.561071</td>\n",
       "      <td>0</td>\n",
       "    </tr>\n",
       "    <tr>\n",
       "      <th>4</th>\n",
       "      <td>2019-01-01 00:03:06</td>\n",
       "      <td>375534208663984</td>\n",
       "      <td>fraud_Keeling-Crist</td>\n",
       "      <td>misc_pos</td>\n",
       "      <td>41.96</td>\n",
       "      <td>Tyler</td>\n",
       "      <td>Garcia</td>\n",
       "      <td>M</td>\n",
       "      <td>408 Bradley Rest</td>\n",
       "      <td>Doe Hill</td>\n",
       "      <td>...</td>\n",
       "      <td>38.4207</td>\n",
       "      <td>-79.4629</td>\n",
       "      <td>99</td>\n",
       "      <td>Dance movement psychotherapist</td>\n",
       "      <td>1986-03-28</td>\n",
       "      <td>a41d7549acf90789359a9aa5346dcb46</td>\n",
       "      <td>2012-01-01 00:03:06</td>\n",
       "      <td>38.674999</td>\n",
       "      <td>-78.632459</td>\n",
       "      <td>0</td>\n",
       "    </tr>\n",
       "  </tbody>\n",
       "</table>\n",
       "<p>5 rows × 22 columns</p>\n",
       "</div>"
      ],
      "text/plain": [
       "  trans_date_trans_time            cc_num                            merchant  \\\n",
       "0   2019-01-01 00:00:18  2703186189652095          fraud_Rippin, Kub and Mann   \n",
       "1   2019-01-01 00:00:44      630423337322     fraud_Heller, Gutmann and Zieme   \n",
       "2   2019-01-01 00:00:51    38859492057661                fraud_Lind-Buckridge   \n",
       "3   2019-01-01 00:01:16  3534093764340240  fraud_Kutch, Hermiston and Farrell   \n",
       "4   2019-01-01 00:03:06   375534208663984                 fraud_Keeling-Crist   \n",
       "\n",
       "        category     amt      first     last gender  \\\n",
       "0       misc_net    4.97   Jennifer    Banks      F   \n",
       "1    grocery_pos  107.23  Stephanie     Gill      F   \n",
       "2  entertainment  220.11     Edward  Sanchez      M   \n",
       "3  gas_transport   45.00     Jeremy    White      M   \n",
       "4       misc_pos   41.96      Tyler   Garcia      M   \n",
       "\n",
       "                         street            city  ...      lat      long  \\\n",
       "0                561 Perry Cove  Moravian Falls  ...  36.0788  -81.1781   \n",
       "1  43039 Riley Greens Suite 393          Orient  ...  48.8878 -118.2105   \n",
       "2      594 White Dale Suite 530      Malad City  ...  42.1808 -112.2620   \n",
       "3   9443 Cynthia Court Apt. 038         Boulder  ...  46.2306 -112.1138   \n",
       "4              408 Bradley Rest        Doe Hill  ...  38.4207  -79.4629   \n",
       "\n",
       "   city_pop                                job        dob  \\\n",
       "0      3495          Psychologist, counselling 1988-03-09   \n",
       "1       149  Special educational needs teacher 1978-06-21   \n",
       "2      4154        Nature conservation officer 1962-01-19   \n",
       "3      1939                    Patent attorney 1967-01-12   \n",
       "4        99     Dance movement psychotherapist 1986-03-28   \n",
       "\n",
       "                          trans_num           unix_time  merch_lat  \\\n",
       "0  0b242abb623afc578575680df30655b9 2012-01-01 00:00:18  36.011293   \n",
       "1  1f76529f8574734946361c461b024d99 2012-01-01 00:00:44  49.159047   \n",
       "2  a1a22d70485983eac12b5b88dad1cf95 2012-01-01 00:00:51  43.150704   \n",
       "3  6b849c168bdad6f867558c3793159a81 2012-01-01 00:01:16  47.034331   \n",
       "4  a41d7549acf90789359a9aa5346dcb46 2012-01-01 00:03:06  38.674999   \n",
       "\n",
       "   merch_long  is_fraud  \n",
       "0  -82.048315         0  \n",
       "1 -118.186462         0  \n",
       "2 -112.154481         0  \n",
       "3 -112.561071         0  \n",
       "4  -78.632459         0  \n",
       "\n",
       "[5 rows x 22 columns]"
      ]
     },
     "execution_count": 8,
     "metadata": {},
     "output_type": "execute_result"
    }
   ],
   "source": [
    "#Check if the unix_time is equal to the trans_date_trans_time\n",
    "\n",
    "train_data['unix_time']= pd.to_datetime(train_data['unix_time'], unit='s')\n",
    "train_data.head()"
   ]
  },
  {
   "cell_type": "markdown",
   "id": "b680414b",
   "metadata": {},
   "source": [
    "unix_time does not look to be a useful column. We can drop it. "
   ]
  },
  {
   "cell_type": "code",
   "execution_count": 9,
   "id": "bb7811c7",
   "metadata": {},
   "outputs": [],
   "source": [
    "train_data.drop(columns= ['unix_time'], axis=1, inplace=True)"
   ]
  },
  {
   "cell_type": "code",
   "execution_count": 10,
   "id": "f8ccaf2e",
   "metadata": {},
   "outputs": [],
   "source": [
    "#Separate year, month, day of the month, day of the week, and hour from the trans_date_trans_time column\n",
    "\n",
    "train_data['trans_year'] = [d.year for d in train_data['trans_date_trans_time']]\n",
    "train_data['trans_month'] = [d.month for d in train_data['trans_date_trans_time']]\n",
    "train_data['trans_day_of_month'] = [d.day for d in train_data['trans_date_trans_time']]\n",
    "train_data['trans_day_of_week'] = [d.weekday() for d in train_data['trans_date_trans_time']]\n",
    "train_data['trans_hour'] = [d.hour for d in train_data['trans_date_trans_time']]\n"
   ]
  },
  {
   "cell_type": "code",
   "execution_count": 11,
   "id": "a651e973",
   "metadata": {},
   "outputs": [
    {
     "data": {
      "text/html": [
       "<div>\n",
       "<style scoped>\n",
       "    .dataframe tbody tr th:only-of-type {\n",
       "        vertical-align: middle;\n",
       "    }\n",
       "\n",
       "    .dataframe tbody tr th {\n",
       "        vertical-align: top;\n",
       "    }\n",
       "\n",
       "    .dataframe thead th {\n",
       "        text-align: right;\n",
       "    }\n",
       "</style>\n",
       "<table border=\"1\" class=\"dataframe\">\n",
       "  <thead>\n",
       "    <tr style=\"text-align: right;\">\n",
       "      <th></th>\n",
       "      <th>cc_num</th>\n",
       "      <th>merchant</th>\n",
       "      <th>category</th>\n",
       "      <th>amt</th>\n",
       "      <th>first</th>\n",
       "      <th>last</th>\n",
       "      <th>gender</th>\n",
       "      <th>street</th>\n",
       "      <th>city</th>\n",
       "      <th>state</th>\n",
       "      <th>...</th>\n",
       "      <th>dob</th>\n",
       "      <th>trans_num</th>\n",
       "      <th>merch_lat</th>\n",
       "      <th>merch_long</th>\n",
       "      <th>is_fraud</th>\n",
       "      <th>trans_year</th>\n",
       "      <th>trans_month</th>\n",
       "      <th>trans_day_of_month</th>\n",
       "      <th>trans_day_of_week</th>\n",
       "      <th>trans_hour</th>\n",
       "    </tr>\n",
       "  </thead>\n",
       "  <tbody>\n",
       "    <tr>\n",
       "      <th>0</th>\n",
       "      <td>2703186189652095</td>\n",
       "      <td>fraud_Rippin, Kub and Mann</td>\n",
       "      <td>misc_net</td>\n",
       "      <td>4.97</td>\n",
       "      <td>Jennifer</td>\n",
       "      <td>Banks</td>\n",
       "      <td>F</td>\n",
       "      <td>561 Perry Cove</td>\n",
       "      <td>Moravian Falls</td>\n",
       "      <td>NC</td>\n",
       "      <td>...</td>\n",
       "      <td>1988-03-09</td>\n",
       "      <td>0b242abb623afc578575680df30655b9</td>\n",
       "      <td>36.011293</td>\n",
       "      <td>-82.048315</td>\n",
       "      <td>0</td>\n",
       "      <td>2019</td>\n",
       "      <td>1</td>\n",
       "      <td>1</td>\n",
       "      <td>1</td>\n",
       "      <td>0</td>\n",
       "    </tr>\n",
       "    <tr>\n",
       "      <th>1</th>\n",
       "      <td>630423337322</td>\n",
       "      <td>fraud_Heller, Gutmann and Zieme</td>\n",
       "      <td>grocery_pos</td>\n",
       "      <td>107.23</td>\n",
       "      <td>Stephanie</td>\n",
       "      <td>Gill</td>\n",
       "      <td>F</td>\n",
       "      <td>43039 Riley Greens Suite 393</td>\n",
       "      <td>Orient</td>\n",
       "      <td>WA</td>\n",
       "      <td>...</td>\n",
       "      <td>1978-06-21</td>\n",
       "      <td>1f76529f8574734946361c461b024d99</td>\n",
       "      <td>49.159047</td>\n",
       "      <td>-118.186462</td>\n",
       "      <td>0</td>\n",
       "      <td>2019</td>\n",
       "      <td>1</td>\n",
       "      <td>1</td>\n",
       "      <td>1</td>\n",
       "      <td>0</td>\n",
       "    </tr>\n",
       "    <tr>\n",
       "      <th>2</th>\n",
       "      <td>38859492057661</td>\n",
       "      <td>fraud_Lind-Buckridge</td>\n",
       "      <td>entertainment</td>\n",
       "      <td>220.11</td>\n",
       "      <td>Edward</td>\n",
       "      <td>Sanchez</td>\n",
       "      <td>M</td>\n",
       "      <td>594 White Dale Suite 530</td>\n",
       "      <td>Malad City</td>\n",
       "      <td>ID</td>\n",
       "      <td>...</td>\n",
       "      <td>1962-01-19</td>\n",
       "      <td>a1a22d70485983eac12b5b88dad1cf95</td>\n",
       "      <td>43.150704</td>\n",
       "      <td>-112.154481</td>\n",
       "      <td>0</td>\n",
       "      <td>2019</td>\n",
       "      <td>1</td>\n",
       "      <td>1</td>\n",
       "      <td>1</td>\n",
       "      <td>0</td>\n",
       "    </tr>\n",
       "    <tr>\n",
       "      <th>3</th>\n",
       "      <td>3534093764340240</td>\n",
       "      <td>fraud_Kutch, Hermiston and Farrell</td>\n",
       "      <td>gas_transport</td>\n",
       "      <td>45.00</td>\n",
       "      <td>Jeremy</td>\n",
       "      <td>White</td>\n",
       "      <td>M</td>\n",
       "      <td>9443 Cynthia Court Apt. 038</td>\n",
       "      <td>Boulder</td>\n",
       "      <td>MT</td>\n",
       "      <td>...</td>\n",
       "      <td>1967-01-12</td>\n",
       "      <td>6b849c168bdad6f867558c3793159a81</td>\n",
       "      <td>47.034331</td>\n",
       "      <td>-112.561071</td>\n",
       "      <td>0</td>\n",
       "      <td>2019</td>\n",
       "      <td>1</td>\n",
       "      <td>1</td>\n",
       "      <td>1</td>\n",
       "      <td>0</td>\n",
       "    </tr>\n",
       "    <tr>\n",
       "      <th>4</th>\n",
       "      <td>375534208663984</td>\n",
       "      <td>fraud_Keeling-Crist</td>\n",
       "      <td>misc_pos</td>\n",
       "      <td>41.96</td>\n",
       "      <td>Tyler</td>\n",
       "      <td>Garcia</td>\n",
       "      <td>M</td>\n",
       "      <td>408 Bradley Rest</td>\n",
       "      <td>Doe Hill</td>\n",
       "      <td>VA</td>\n",
       "      <td>...</td>\n",
       "      <td>1986-03-28</td>\n",
       "      <td>a41d7549acf90789359a9aa5346dcb46</td>\n",
       "      <td>38.674999</td>\n",
       "      <td>-78.632459</td>\n",
       "      <td>0</td>\n",
       "      <td>2019</td>\n",
       "      <td>1</td>\n",
       "      <td>1</td>\n",
       "      <td>1</td>\n",
       "      <td>0</td>\n",
       "    </tr>\n",
       "  </tbody>\n",
       "</table>\n",
       "<p>5 rows × 25 columns</p>\n",
       "</div>"
      ],
      "text/plain": [
       "             cc_num                            merchant       category  \\\n",
       "0  2703186189652095          fraud_Rippin, Kub and Mann       misc_net   \n",
       "1      630423337322     fraud_Heller, Gutmann and Zieme    grocery_pos   \n",
       "2    38859492057661                fraud_Lind-Buckridge  entertainment   \n",
       "3  3534093764340240  fraud_Kutch, Hermiston and Farrell  gas_transport   \n",
       "4   375534208663984                 fraud_Keeling-Crist       misc_pos   \n",
       "\n",
       "      amt      first     last gender                        street  \\\n",
       "0    4.97   Jennifer    Banks      F                561 Perry Cove   \n",
       "1  107.23  Stephanie     Gill      F  43039 Riley Greens Suite 393   \n",
       "2  220.11     Edward  Sanchez      M      594 White Dale Suite 530   \n",
       "3   45.00     Jeremy    White      M   9443 Cynthia Court Apt. 038   \n",
       "4   41.96      Tyler   Garcia      M              408 Bradley Rest   \n",
       "\n",
       "             city state  ...        dob                         trans_num  \\\n",
       "0  Moravian Falls    NC  ... 1988-03-09  0b242abb623afc578575680df30655b9   \n",
       "1          Orient    WA  ... 1978-06-21  1f76529f8574734946361c461b024d99   \n",
       "2      Malad City    ID  ... 1962-01-19  a1a22d70485983eac12b5b88dad1cf95   \n",
       "3         Boulder    MT  ... 1967-01-12  6b849c168bdad6f867558c3793159a81   \n",
       "4        Doe Hill    VA  ... 1986-03-28  a41d7549acf90789359a9aa5346dcb46   \n",
       "\n",
       "   merch_lat  merch_long is_fraud trans_year trans_month  trans_day_of_month  \\\n",
       "0  36.011293  -82.048315        0       2019           1                   1   \n",
       "1  49.159047 -118.186462        0       2019           1                   1   \n",
       "2  43.150704 -112.154481        0       2019           1                   1   \n",
       "3  47.034331 -112.561071        0       2019           1                   1   \n",
       "4  38.674999  -78.632459        0       2019           1                   1   \n",
       "\n",
       "   trans_day_of_week  trans_hour  \n",
       "0                  1           0  \n",
       "1                  1           0  \n",
       "2                  1           0  \n",
       "3                  1           0  \n",
       "4                  1           0  \n",
       "\n",
       "[5 rows x 25 columns]"
      ]
     },
     "execution_count": 11,
     "metadata": {},
     "output_type": "execute_result"
    }
   ],
   "source": [
    "#remove the trans_date_trans_time column from the dataset\n",
    "train_data.drop(columns='trans_date_trans_time', inplace= True)\n",
    "train_data.head()"
   ]
  },
  {
   "cell_type": "code",
   "execution_count": 12,
   "id": "3887504d",
   "metadata": {},
   "outputs": [],
   "source": [
    "#calculate the age of the costumers, keep the dob column for some further analysis and remove it at the end\n",
    "age_year= [d.year for d in train_data['dob']]\n",
    "train_data['age']= train_data['trans_year'] - age_year"
   ]
  },
  {
   "cell_type": "code",
   "execution_count": 13,
   "id": "691e22ec",
   "metadata": {},
   "outputs": [
    {
     "data": {
      "text/plain": [
       "array([0, 1])"
      ]
     },
     "execution_count": 13,
     "metadata": {},
     "output_type": "execute_result"
    }
   ],
   "source": [
    "#check the values in `is_fraud` column\n",
    "train_data['is_fraud'].unique()"
   ]
  },
  {
   "cell_type": "code",
   "execution_count": 14,
   "id": "c4dc6f90",
   "metadata": {},
   "outputs": [
    {
     "name": "stdout",
     "output_type": "stream",
     "text": [
      "Number of fraud transactions are 7506 which is %0.58 of the total transactions.\n"
     ]
    }
   ],
   "source": [
    "#check how many fraud has been detected\n",
    "num_fraud= (train_data[train_data['is_fraud']==1].shape)[0]\n",
    "train_data_rows= (train_data.shape)[0]\n",
    "percent_fraud= (num_fraud/train_data_rows)*100\n",
    "\n",
    "print('Number of fraud transactions are {} which is %{:0.2f} of the total transactions.'.format(num_fraud,percent_fraud))\n"
   ]
  },
  {
   "cell_type": "code",
   "execution_count": 15,
   "id": "9836b23d",
   "metadata": {},
   "outputs": [
    {
     "name": "stdout",
     "output_type": "stream",
     "text": [
      "`trans_num` is unique for each transaction\n"
     ]
    }
   ],
   "source": [
    "#check if trans_num is a unique number for each transaction\n",
    "trans_number= len(train_data['trans_num'].unique())\n",
    "if trans_number== train_data_rows:\n",
    "    print(f'`trans_num` is unique for each transaction')\n",
    "else:\n",
    "    print(f'`trans_num` is NOT unique for each transaction')"
   ]
  },
  {
   "cell_type": "code",
   "execution_count": 16,
   "id": "232de458",
   "metadata": {},
   "outputs": [
    {
     "name": "stdout",
     "output_type": "stream",
     "text": [
      "gas_transport     131659\n",
      "grocery_pos       123638\n",
      "home              123115\n",
      "shopping_pos      116672\n",
      "kids_pets         113035\n",
      "shopping_net       97543\n",
      "entertainment      94014\n",
      "food_dining        91461\n",
      "personal_care      90758\n",
      "health_fitness     85879\n",
      "misc_pos           79655\n",
      "misc_net           63287\n",
      "grocery_net        45452\n",
      "travel             40507\n",
      "Name: category, dtype: int64\n"
     ]
    }
   ],
   "source": [
    "#Use pandas' Series method `value_counts` to see different categories\n",
    "category_count= train_data['category'].value_counts()\n",
    "print(category_count)"
   ]
  },
  {
   "cell_type": "code",
   "execution_count": 17,
   "id": "ee36b643",
   "metadata": {},
   "outputs": [
    {
     "name": "stdout",
     "output_type": "stream",
     "text": [
      "grocery_pos       1743\n",
      "shopping_net      1713\n",
      "misc_net           915\n",
      "shopping_pos       843\n",
      "gas_transport      618\n",
      "misc_pos           250\n",
      "kids_pets          239\n",
      "entertainment      233\n",
      "personal_care      220\n",
      "home               198\n",
      "food_dining        151\n",
      "grocery_net        134\n",
      "health_fitness     133\n",
      "travel             116\n",
      "Name: category, dtype: int64\n"
     ]
    }
   ],
   "source": [
    "#Use pandas' Series method `value_counts` to see which categories had the most fraud transactions\n",
    "category_count_fraud= train_data['category'][train_data['is_fraud']==1].value_counts()\n",
    "print(category_count_fraud)\n"
   ]
  },
  {
   "cell_type": "code",
   "execution_count": 18,
   "id": "6f85145c",
   "metadata": {},
   "outputs": [
    {
     "data": {
      "text/html": [
       "<div>\n",
       "<style scoped>\n",
       "    .dataframe tbody tr th:only-of-type {\n",
       "        vertical-align: middle;\n",
       "    }\n",
       "\n",
       "    .dataframe tbody tr th {\n",
       "        vertical-align: top;\n",
       "    }\n",
       "\n",
       "    .dataframe thead th {\n",
       "        text-align: right;\n",
       "    }\n",
       "</style>\n",
       "<table border=\"1\" class=\"dataframe\">\n",
       "  <thead>\n",
       "    <tr style=\"text-align: right;\">\n",
       "      <th></th>\n",
       "      <th>is_fraud</th>\n",
       "    </tr>\n",
       "    <tr>\n",
       "      <th>category</th>\n",
       "      <th></th>\n",
       "    </tr>\n",
       "  </thead>\n",
       "  <tbody>\n",
       "    <tr>\n",
       "      <th>entertainment</th>\n",
       "      <td>0.002478</td>\n",
       "    </tr>\n",
       "    <tr>\n",
       "      <th>food_dining</th>\n",
       "      <td>0.001651</td>\n",
       "    </tr>\n",
       "    <tr>\n",
       "      <th>gas_transport</th>\n",
       "      <td>0.004694</td>\n",
       "    </tr>\n",
       "    <tr>\n",
       "      <th>grocery_net</th>\n",
       "      <td>0.002948</td>\n",
       "    </tr>\n",
       "    <tr>\n",
       "      <th>grocery_pos</th>\n",
       "      <td>0.014098</td>\n",
       "    </tr>\n",
       "    <tr>\n",
       "      <th>health_fitness</th>\n",
       "      <td>0.001549</td>\n",
       "    </tr>\n",
       "    <tr>\n",
       "      <th>home</th>\n",
       "      <td>0.001608</td>\n",
       "    </tr>\n",
       "    <tr>\n",
       "      <th>kids_pets</th>\n",
       "      <td>0.002114</td>\n",
       "    </tr>\n",
       "    <tr>\n",
       "      <th>misc_net</th>\n",
       "      <td>0.014458</td>\n",
       "    </tr>\n",
       "    <tr>\n",
       "      <th>misc_pos</th>\n",
       "      <td>0.003139</td>\n",
       "    </tr>\n",
       "    <tr>\n",
       "      <th>personal_care</th>\n",
       "      <td>0.002424</td>\n",
       "    </tr>\n",
       "    <tr>\n",
       "      <th>shopping_net</th>\n",
       "      <td>0.017561</td>\n",
       "    </tr>\n",
       "    <tr>\n",
       "      <th>shopping_pos</th>\n",
       "      <td>0.007225</td>\n",
       "    </tr>\n",
       "    <tr>\n",
       "      <th>travel</th>\n",
       "      <td>0.002864</td>\n",
       "    </tr>\n",
       "  </tbody>\n",
       "</table>\n",
       "</div>"
      ],
      "text/plain": [
       "                is_fraud\n",
       "category                \n",
       "entertainment   0.002478\n",
       "food_dining     0.001651\n",
       "gas_transport   0.004694\n",
       "grocery_net     0.002948\n",
       "grocery_pos     0.014098\n",
       "health_fitness  0.001549\n",
       "home            0.001608\n",
       "kids_pets       0.002114\n",
       "misc_net        0.014458\n",
       "misc_pos        0.003139\n",
       "personal_care   0.002424\n",
       "shopping_net    0.017561\n",
       "shopping_pos    0.007225\n",
       "travel          0.002864"
      ]
     },
     "execution_count": 18,
     "metadata": {},
     "output_type": "execute_result"
    },
    {
     "data": {
      "image/png": "[encoded data removed]",
      "text/plain": [
       "<Figure size 640x480 with 1 Axes>"
      ]
     },
     "metadata": {},
     "output_type": "display_data"
    }
   ],
   "source": [
    "#Plot a bar plot to show the the number of frauds for each category\n",
    "\n",
    "train_data.groupby([ 'category'])[['is_fraud']].mean().plot(kind='bar').set_ylabel('Count')\n",
    "train_data.groupby(['category' ])[['is_fraud']].mean()"
   ]
  },
  {
   "cell_type": "markdown",
   "id": "1d51e83d",
   "metadata": {},
   "source": [
    "Most of the fraud transactions are related to shopping_net, misc_net, grocery_pos, and shopping_pos."
   ]
  },
  {
   "cell_type": "code",
   "execution_count": 19,
   "id": "95cb3275",
   "metadata": {},
   "outputs": [],
   "source": [
    "#create dummy variables for category and age and drop `category` and `gender` column\n",
    "\n",
    "train_data = pd.get_dummies(train_data, columns= ['category', 'gender'], drop_first= True)\n",
    "# train_data = pd.concat([train_data, dummies], axis=1)\n"
   ]
  },
  {
   "cell_type": "code",
   "execution_count": 20,
   "id": "74e5901c",
   "metadata": {},
   "outputs": [
    {
     "name": "stdout",
     "output_type": "stream",
     "text": [
      "fraud_Kilback LLC                       4403\n",
      "fraud_Cormier LLC                       3649\n",
      "fraud_Schumm PLC                        3634\n",
      "fraud_Kuhn LLC                          3510\n",
      "fraud_Boyer PLC                         3493\n",
      "                                        ... \n",
      "fraud_Douglas, DuBuque and McKenzie      775\n",
      "fraud_Treutel-King                       775\n",
      "fraud_Medhurst, Labadie and Gottlieb     759\n",
      "fraud_Reichert-Weissnat                  753\n",
      "fraud_Hahn, Douglas and Schowalter       727\n",
      "Name: merchant, Length: 693, dtype: int64\n"
     ]
    }
   ],
   "source": [
    "#Use pandas' Series method `value_counts` to see different merchants\n",
    "merchant_counts= train_data['merchant'].value_counts()\n",
    "print(merchant_counts)"
   ]
  },
  {
   "cell_type": "markdown",
   "id": "0b006686",
   "metadata": {},
   "source": [
    "There are 693 unique merchants in the dataset."
   ]
  },
  {
   "cell_type": "code",
   "execution_count": 21,
   "id": "e1154b36",
   "metadata": {},
   "outputs": [
    {
     "data": {
      "text/plain": [
       "state     51\n",
       "city     894\n",
       "dtype: int64"
      ]
     },
     "execution_count": 21,
     "metadata": {},
     "output_type": "execute_result"
    }
   ],
   "source": [
    "#Use pandas' Series method `unique` to see how many unique state and city are in the dataset\n",
    "train_data[['state', 'city']].nunique()"
   ]
  },
  {
   "cell_type": "markdown",
   "id": "b49fcd5c",
   "metadata": {},
   "source": [
    "There are 50 states in the USA, however, there are 51 states in the dataset. Take a closer look to see what's the 51st state.\n"
   ]
  },
  {
   "cell_type": "code",
   "execution_count": 22,
   "id": "9e3b1cc7",
   "metadata": {},
   "outputs": [
    {
     "name": "stdout",
     "output_type": "stream",
     "text": [
      "TX    94876\n",
      "NY    83501\n",
      "PA    79847\n",
      "CA    56360\n",
      "OH    46480\n",
      "MI    46154\n",
      "IL    43252\n",
      "FL    42671\n",
      "AL    40989\n",
      "MO    38403\n",
      "MN    31714\n",
      "AR    31127\n",
      "NC    30266\n",
      "WI    29368\n",
      "VA    29250\n",
      "SC    29190\n",
      "KY    28475\n",
      "IN    27580\n",
      "IA    26985\n",
      "OK    26671\n",
      "MD    26193\n",
      "GA    26063\n",
      "WV    25691\n",
      "NJ    24603\n",
      "NE    24168\n",
      "KS    22996\n",
      "MS    21188\n",
      "LA    20965\n",
      "WY    19322\n",
      "WA    18924\n",
      "OR    18597\n",
      "TN    17554\n",
      "ME    16505\n",
      "NM    16407\n",
      "ND    14786\n",
      "CO    13880\n",
      "MA    12376\n",
      "SD    12324\n",
      "VT    11768\n",
      "MT    11754\n",
      "AZ    10770\n",
      "UT    10699\n",
      "NH     8278\n",
      "CT     7702\n",
      "NV     5607\n",
      "ID     5545\n",
      "DC     3613\n",
      "HI     2559\n",
      "AK     2120\n",
      "RI      550\n",
      "DE        9\n",
      "Name: state, dtype: int64\n"
     ]
    }
   ],
   "source": [
    "#find the total number of transactions per state\n",
    "state_count_trans= train_data['state'].value_counts()\n",
    "print(state_count_trans)"
   ]
  },
  {
   "cell_type": "markdown",
   "id": "2538dd5a",
   "metadata": {},
   "source": [
    "DC has been reported as a state. Let's see what cities are included in DC. "
   ]
  },
  {
   "cell_type": "code",
   "execution_count": 23,
   "id": "a22fa1b8",
   "metadata": {},
   "outputs": [
    {
     "data": {
      "text/plain": [
       "array(['Washington'], dtype=object)"
      ]
     },
     "execution_count": 23,
     "metadata": {},
     "output_type": "execute_result"
    }
   ],
   "source": [
    "#check what cities are included in DC state\n",
    "\n",
    "train_data['city'][train_data['state']=='DC'].unique()"
   ]
  },
  {
   "cell_type": "markdown",
   "id": "709b7361",
   "metadata": {},
   "source": [
    "This looks to be ok! Only Washington is in DC which can be left as is."
   ]
  },
  {
   "cell_type": "code",
   "execution_count": 24,
   "id": "41722314",
   "metadata": {},
   "outputs": [
    {
     "data": {
      "text/plain": [
       "state\n",
       "AK     36\n",
       "AL    215\n",
       "AR    161\n",
       "AZ     37\n",
       "CA    326\n",
       "Name: is_fraud, dtype: int64"
      ]
     },
     "execution_count": 24,
     "metadata": {},
     "output_type": "execute_result"
    }
   ],
   "source": [
    "#find the number of fraud transactions per state\n",
    "\n",
    "state_count_fraud = train_data.groupby('state')['is_fraud'].agg(sum)\n",
    "state_count_fraud.head()"
   ]
  },
  {
   "cell_type": "code",
   "execution_count": 25,
   "id": "fbe0c493",
   "metadata": {},
   "outputs": [
    {
     "data": {
      "text/plain": [
       "Text(0, 0.5, 'Count')"
      ]
     },
     "execution_count": 25,
     "metadata": {},
     "output_type": "execute_result"
    },
    {
     "data": {
      "image/png": "[encoded data removed]",
      "text/plain": [
       "<Figure size 1000x500 with 1 Axes>"
      ]
     },
     "metadata": {},
     "output_type": "display_data"
    }
   ],
   "source": [
    "#Plot the number of fraud transactions per state\n",
    "\n",
    "train_data.groupby('state')['is_fraud'].mean().plot(kind='bar' , figsize=(10,5)).set_ylabel('Count')\n",
    "#train_data.groupby(['state' ])[['is_fraud']].mean()"
   ]
  },
  {
   "cell_type": "markdown",
   "id": "46b2b3ee",
   "metadata": {},
   "source": [
    "Most of the fraud transactions happened in DE (Delaware) which is significantly higher than the other states. The second and third states after Delaware with the highest fraud transactions are Rhode Island and Arkansas."
   ]
  },
  {
   "cell_type": "code",
   "execution_count": 26,
   "id": "8b4c8eba",
   "metadata": {},
   "outputs": [
    {
     "data": {
      "text/plain": [
       "first    last      dob       \n",
       "Aaron    Murray    1974-12-23     8\n",
       "         Pena      1950-11-27     0\n",
       "         Rogers    1945-03-15    12\n",
       "         Stewart   1995-04-22     8\n",
       "Adam     Keller    1932-09-17    14\n",
       "                                 ..\n",
       "William  Thompson  1937-03-17    12\n",
       "Willie   Jordan    1957-08-08     4\n",
       "Xavier   Beltran   1984-06-04    13\n",
       "Zachary  Allen     1969-07-24     8\n",
       "         Boone     1927-12-11     7\n",
       "Name: is_fraud, Length: 983, dtype: int64"
      ]
     },
     "execution_count": 26,
     "metadata": {},
     "output_type": "execute_result"
    }
   ],
   "source": [
    "#Use groupby method to find the number of customers and the number of fraud trandactions for each of them\n",
    "train_data.groupby(['first','last','dob'])['is_fraud'].agg(sum)\n"
   ]
  },
  {
   "cell_type": "markdown",
   "id": "efa81347",
   "metadata": {},
   "source": [
    "Data includes information for 983 customers and their transactions."
   ]
  },
  {
   "cell_type": "code",
   "execution_count": 27,
   "id": "5bb78271",
   "metadata": {},
   "outputs": [
    {
     "name": "stdout",
     "output_type": "stream",
     "text": [
      "571365235126           3123\n",
      "4512828414983801773    3123\n",
      "36722699017270         3119\n",
      "213112402583773        3117\n",
      "3545109339866548       3113\n",
      "                       ... \n",
      "180097223252063           7\n",
      "4225628813173670          7\n",
      "501894933032              7\n",
      "4975457191020             7\n",
      "340187018810220           7\n",
      "Name: cc_num, Length: 983, dtype: int64\n"
     ]
    }
   ],
   "source": [
    "#check how many cc_num we have and find what that is...\n",
    "cc_counts= train_data['cc_num'].value_counts()\n",
    "print(cc_counts)"
   ]
  },
  {
   "cell_type": "markdown",
   "id": "c7b34775",
   "metadata": {},
   "source": [
    "It seems like there is one cc_num per costumer (983 `cc_num`s for 983 costumers). This should be the account number. Let's explore further to make sure."
   ]
  },
  {
   "cell_type": "code",
   "execution_count": 28,
   "id": "d9e7f09c",
   "metadata": {},
   "outputs": [
    {
     "data": {
      "text/plain": [
       "first    last      dob         cc_num             \n",
       "Aaron    Murray    1974-12-23  376028110684021        1\n",
       "         Pena      1950-11-27  4958589671582726883    1\n",
       "         Rogers    1945-03-15  4260059589824237       1\n",
       "         Stewart   1995-04-22  4228411452607671       1\n",
       "Adam     Keller    1932-09-17  4917226033950          1\n",
       "                                                     ..\n",
       "William  Thompson  1937-03-17  4988304376504          1\n",
       "Willie   Jordan    1957-08-08  213120463918358        1\n",
       "Xavier   Beltran   1984-06-04  349612764943496        1\n",
       "Zachary  Allen     1969-07-24  213195754007681        1\n",
       "         Boone     1927-12-11  374821819075109        1\n",
       "Length: 983, dtype: int64"
      ]
     },
     "execution_count": 28,
     "metadata": {},
     "output_type": "execute_result"
    }
   ],
   "source": [
    "#Use groupby method to make sure each unique cc_num is assigned to a customer\n",
    "#First remove duplicate cc_num to only have unique values\n",
    "#Then use groupby to see how many customers will remain with a unique cc_num\n",
    "\n",
    "train_data_uniqueCC = train_data.drop_duplicates(subset= ['cc_num'])\n",
    "train_data_uniqueCC.groupby(['first','last','dob', 'cc_num']).size()\n"
   ]
  },
  {
   "cell_type": "markdown",
   "id": "9ec63727",
   "metadata": {},
   "source": [
    "We checked that there are 983 customers, each with a unique cc_num"
   ]
  },
  {
   "cell_type": "code",
   "execution_count": 29,
   "id": "5c23ea13",
   "metadata": {},
   "outputs": [],
   "source": [
    "# we don't need `dob` anymore. We can drop it from the dataset\n",
    "train_data.drop(columns=['dob'], axis=1, inplace=True)"
   ]
  },
  {
   "cell_type": "code",
   "execution_count": 30,
   "id": "dd8d7449",
   "metadata": {},
   "outputs": [
    {
     "data": {
      "image/png": "[encoded data removed]",
      "text/plain": [
       "<Figure size 1500x1000 with 30 Axes>"
      ]
     },
     "metadata": {},
     "output_type": "display_data"
    }
   ],
   "source": [
    "#Use `hist` method to plot histograms of each of the numeric features\n",
    "\n",
    "train_data.hist(figsize= (15,10))\n",
    "plt.subplots_adjust(hspace=1);"
   ]
  },
  {
   "cell_type": "markdown",
   "id": "dc50ccf2",
   "metadata": {},
   "source": [
    "Possible cause for concerns are `cc_num`, `amt`, and `city_pop` because the values are clusters down the low end. And `trans_year` because year can not get a negative number. "
   ]
  },
  {
   "cell_type": "markdown",
   "id": "ab12bb45",
   "metadata": {},
   "source": [
    "## cc_num"
   ]
  },
  {
   "cell_type": "code",
   "execution_count": 31,
   "id": "5e745c48",
   "metadata": {},
   "outputs": [
    {
     "data": {
      "text/plain": [
       "19         4956828990005111019\n",
       "20         4469777115158234880\n",
       "24         4428780983793657331\n",
       "28         4225990116481262579\n",
       "31         4599735407877245080\n",
       "                  ...         \n",
       "1296647    4710826438164847414\n",
       "1296660    4040099974063068803\n",
       "1296666    4587657402165341815\n",
       "1296669    4400011257587661852\n",
       "1296674    4292902571056973207\n",
       "Name: cc_num, Length: 118789, dtype: int64"
      ]
     },
     "execution_count": 31,
     "metadata": {},
     "output_type": "execute_result"
    }
   ],
   "source": [
    "#Filter the `cc_num` column to find the values greater than 1e18\n",
    "train_data.cc_num[train_data.cc_num>1e18]"
   ]
  },
  {
   "cell_type": "markdown",
   "id": "97ad775f",
   "metadata": {},
   "source": [
    "There are 118789 rows with cc_num greater than 1e18. This can be just a specific format for account number. We will explore this later in more detail."
   ]
  },
  {
   "cell_type": "markdown",
   "id": "14d918fc",
   "metadata": {},
   "source": [
    "## amt"
   ]
  },
  {
   "cell_type": "code",
   "execution_count": 32,
   "id": "01d238ff",
   "metadata": {},
   "outputs": [
    {
     "data": {
      "text/plain": [
       "12084       5444.24\n",
       "17743      11872.21\n",
       "25944       6337.25\n",
       "37315      10776.59\n",
       "42665       5234.79\n",
       "             ...   \n",
       "1262258    10665.33\n",
       "1270060    10881.08\n",
       "1270196     6438.07\n",
       "1277159     6202.65\n",
       "1290513    12176.55\n",
       "Name: amt, Length: 136, dtype: float64"
      ]
     },
     "execution_count": 32,
     "metadata": {},
     "output_type": "execute_result"
    }
   ],
   "source": [
    "#Filter the `amt` column to find the values greater than 5000\n",
    "train_data.amt[train_data.amt > 5000]"
   ]
  },
  {
   "cell_type": "code",
   "execution_count": 33,
   "id": "7211fe39",
   "metadata": {},
   "outputs": [
    {
     "data": {
      "text/plain": [
       "352894     25086.94\n",
       "606211     26544.12\n",
       "787549     28948.90\n",
       "793677     27390.12\n",
       "1234797    27119.77\n",
       "Name: amt, dtype: float64"
      ]
     },
     "execution_count": 33,
     "metadata": {},
     "output_type": "execute_result"
    }
   ],
   "source": [
    "#Filter the `amt` column to find the values greater than 20000\n",
    "train_data.amt[train_data.amt > 20000]"
   ]
  },
  {
   "cell_type": "code",
   "execution_count": 34,
   "id": "7615e9e5",
   "metadata": {},
   "outputs": [
    {
     "data": {
      "text/html": [
       "<div>\n",
       "<style scoped>\n",
       "    .dataframe tbody tr th:only-of-type {\n",
       "        vertical-align: middle;\n",
       "    }\n",
       "\n",
       "    .dataframe tbody tr th {\n",
       "        vertical-align: top;\n",
       "    }\n",
       "\n",
       "    .dataframe thead th {\n",
       "        text-align: right;\n",
       "    }\n",
       "</style>\n",
       "<table border=\"1\" class=\"dataframe\">\n",
       "  <thead>\n",
       "    <tr style=\"text-align: right;\">\n",
       "      <th></th>\n",
       "      <th>cc_num</th>\n",
       "      <th>merchant</th>\n",
       "      <th>amt</th>\n",
       "      <th>first</th>\n",
       "      <th>last</th>\n",
       "      <th>street</th>\n",
       "      <th>city</th>\n",
       "      <th>state</th>\n",
       "      <th>zip</th>\n",
       "      <th>lat</th>\n",
       "      <th>...</th>\n",
       "      <th>category_health_fitness</th>\n",
       "      <th>category_home</th>\n",
       "      <th>category_kids_pets</th>\n",
       "      <th>category_misc_net</th>\n",
       "      <th>category_misc_pos</th>\n",
       "      <th>category_personal_care</th>\n",
       "      <th>category_shopping_net</th>\n",
       "      <th>category_shopping_pos</th>\n",
       "      <th>category_travel</th>\n",
       "      <th>gender_M</th>\n",
       "    </tr>\n",
       "  </thead>\n",
       "  <tbody>\n",
       "    <tr>\n",
       "      <th>352894</th>\n",
       "      <td>5540636818935089</td>\n",
       "      <td>fraud_Hackett Group</td>\n",
       "      <td>25086.94</td>\n",
       "      <td>Kenneth</td>\n",
       "      <td>Foster</td>\n",
       "      <td>329 Michael Extension</td>\n",
       "      <td>Lawrence</td>\n",
       "      <td>MA</td>\n",
       "      <td>1843</td>\n",
       "      <td>42.6911</td>\n",
       "      <td>...</td>\n",
       "      <td>0</td>\n",
       "      <td>0</td>\n",
       "      <td>0</td>\n",
       "      <td>0</td>\n",
       "      <td>0</td>\n",
       "      <td>0</td>\n",
       "      <td>0</td>\n",
       "      <td>0</td>\n",
       "      <td>1</td>\n",
       "      <td>1</td>\n",
       "    </tr>\n",
       "    <tr>\n",
       "      <th>606211</th>\n",
       "      <td>30408301059761</td>\n",
       "      <td>fraud_Boyer-Haley</td>\n",
       "      <td>26544.12</td>\n",
       "      <td>Brandon</td>\n",
       "      <td>Pittman</td>\n",
       "      <td>2881 Frey Village</td>\n",
       "      <td>Cross</td>\n",
       "      <td>SC</td>\n",
       "      <td>29436</td>\n",
       "      <td>33.3364</td>\n",
       "      <td>...</td>\n",
       "      <td>0</td>\n",
       "      <td>0</td>\n",
       "      <td>0</td>\n",
       "      <td>0</td>\n",
       "      <td>0</td>\n",
       "      <td>0</td>\n",
       "      <td>0</td>\n",
       "      <td>0</td>\n",
       "      <td>1</td>\n",
       "      <td>1</td>\n",
       "    </tr>\n",
       "    <tr>\n",
       "      <th>787549</th>\n",
       "      <td>4979422371139333</td>\n",
       "      <td>fraud_Satterfield-Lowe</td>\n",
       "      <td>28948.90</td>\n",
       "      <td>Kelly</td>\n",
       "      <td>Zimmerman</td>\n",
       "      <td>1893 Katie Tunnel</td>\n",
       "      <td>Westerville</td>\n",
       "      <td>NE</td>\n",
       "      <td>68881</td>\n",
       "      <td>41.4193</td>\n",
       "      <td>...</td>\n",
       "      <td>0</td>\n",
       "      <td>0</td>\n",
       "      <td>0</td>\n",
       "      <td>0</td>\n",
       "      <td>0</td>\n",
       "      <td>0</td>\n",
       "      <td>0</td>\n",
       "      <td>0</td>\n",
       "      <td>1</td>\n",
       "      <td>0</td>\n",
       "    </tr>\n",
       "    <tr>\n",
       "      <th>793677</th>\n",
       "      <td>675909898057</td>\n",
       "      <td>fraud_Monahan, Hermann and Johns</td>\n",
       "      <td>27390.12</td>\n",
       "      <td>Christopher</td>\n",
       "      <td>Henry</td>\n",
       "      <td>1198 Robert Stravenue Apt. 479</td>\n",
       "      <td>Armonk</td>\n",
       "      <td>NY</td>\n",
       "      <td>10504</td>\n",
       "      <td>41.1360</td>\n",
       "      <td>...</td>\n",
       "      <td>0</td>\n",
       "      <td>0</td>\n",
       "      <td>0</td>\n",
       "      <td>0</td>\n",
       "      <td>0</td>\n",
       "      <td>0</td>\n",
       "      <td>0</td>\n",
       "      <td>0</td>\n",
       "      <td>1</td>\n",
       "      <td>1</td>\n",
       "    </tr>\n",
       "    <tr>\n",
       "      <th>1234797</th>\n",
       "      <td>60423098130</td>\n",
       "      <td>fraud_Monahan, Hermann and Johns</td>\n",
       "      <td>27119.77</td>\n",
       "      <td>Jason</td>\n",
       "      <td>Gray</td>\n",
       "      <td>875 Amy Point</td>\n",
       "      <td>Amorita</td>\n",
       "      <td>OK</td>\n",
       "      <td>73719</td>\n",
       "      <td>36.9412</td>\n",
       "      <td>...</td>\n",
       "      <td>0</td>\n",
       "      <td>0</td>\n",
       "      <td>0</td>\n",
       "      <td>0</td>\n",
       "      <td>0</td>\n",
       "      <td>0</td>\n",
       "      <td>0</td>\n",
       "      <td>0</td>\n",
       "      <td>1</td>\n",
       "      <td>1</td>\n",
       "    </tr>\n",
       "  </tbody>\n",
       "</table>\n",
       "<p>5 rows × 37 columns</p>\n",
       "</div>"
      ],
      "text/plain": [
       "                   cc_num                          merchant       amt  \\\n",
       "352894   5540636818935089               fraud_Hackett Group  25086.94   \n",
       "606211     30408301059761                 fraud_Boyer-Haley  26544.12   \n",
       "787549   4979422371139333            fraud_Satterfield-Lowe  28948.90   \n",
       "793677       675909898057  fraud_Monahan, Hermann and Johns  27390.12   \n",
       "1234797       60423098130  fraud_Monahan, Hermann and Johns  27119.77   \n",
       "\n",
       "               first       last                          street         city  \\\n",
       "352894       Kenneth     Foster           329 Michael Extension     Lawrence   \n",
       "606211       Brandon    Pittman               2881 Frey Village        Cross   \n",
       "787549         Kelly  Zimmerman               1893 Katie Tunnel  Westerville   \n",
       "793677   Christopher      Henry  1198 Robert Stravenue Apt. 479       Armonk   \n",
       "1234797        Jason       Gray                   875 Amy Point      Amorita   \n",
       "\n",
       "        state    zip      lat  ...  category_health_fitness  category_home  \\\n",
       "352894     MA   1843  42.6911  ...                        0              0   \n",
       "606211     SC  29436  33.3364  ...                        0              0   \n",
       "787549     NE  68881  41.4193  ...                        0              0   \n",
       "793677     NY  10504  41.1360  ...                        0              0   \n",
       "1234797    OK  73719  36.9412  ...                        0              0   \n",
       "\n",
       "        category_kids_pets category_misc_net  category_misc_pos  \\\n",
       "352894                   0                 0                  0   \n",
       "606211                   0                 0                  0   \n",
       "787549                   0                 0                  0   \n",
       "793677                   0                 0                  0   \n",
       "1234797                  0                 0                  0   \n",
       "\n",
       "         category_personal_care  category_shopping_net  category_shopping_pos  \\\n",
       "352894                        0                      0                      0   \n",
       "606211                        0                      0                      0   \n",
       "787549                        0                      0                      0   \n",
       "793677                        0                      0                      0   \n",
       "1234797                       0                      0                      0   \n",
       "\n",
       "         category_travel  gender_M  \n",
       "352894                 1         1  \n",
       "606211                 1         1  \n",
       "787549                 1         0  \n",
       "793677                 1         1  \n",
       "1234797                1         1  \n",
       "\n",
       "[5 rows x 37 columns]"
      ]
     },
     "execution_count": 34,
     "metadata": {},
     "output_type": "execute_result"
    }
   ],
   "source": [
    "train_data[train_data['amt'] > 20000]"
   ]
  },
  {
   "cell_type": "markdown",
   "id": "cbf7aaae",
   "metadata": {},
   "source": [
    "There are 136 transactions for more than `$5000`. There are 6 transaction with more than `$20,000`. Looking at the category, all 6 transactions are related to `travel`. Nothing seems wrong at this time. We can leave this column as is for now. "
   ]
  },
  {
   "cell_type": "code",
   "execution_count": 56,
   "id": "377b4d10",
   "metadata": {
    "scrolled": false
   },
   "outputs": [
    {
     "data": {
      "text/html": [
       "<div>\n",
       "<style scoped>\n",
       "    .dataframe tbody tr th:only-of-type {\n",
       "        vertical-align: middle;\n",
       "    }\n",
       "\n",
       "    .dataframe tbody tr th {\n",
       "        vertical-align: top;\n",
       "    }\n",
       "\n",
       "    .dataframe thead th {\n",
       "        text-align: right;\n",
       "    }\n",
       "</style>\n",
       "<table border=\"1\" class=\"dataframe\">\n",
       "  <thead>\n",
       "    <tr style=\"text-align: right;\">\n",
       "      <th></th>\n",
       "      <th>mean</th>\n",
       "      <th>std</th>\n",
       "    </tr>\n",
       "    <tr>\n",
       "      <th>is_fraud</th>\n",
       "      <th></th>\n",
       "      <th></th>\n",
       "    </tr>\n",
       "  </thead>\n",
       "  <tbody>\n",
       "    <tr>\n",
       "      <th>0</th>\n",
       "      <td>67.667110</td>\n",
       "      <td>154.007971</td>\n",
       "    </tr>\n",
       "    <tr>\n",
       "      <th>1</th>\n",
       "      <td>531.320092</td>\n",
       "      <td>390.560070</td>\n",
       "    </tr>\n",
       "  </tbody>\n",
       "</table>\n",
       "</div>"
      ],
      "text/plain": [
       "                mean         std\n",
       "is_fraud                        \n",
       "0          67.667110  154.007971\n",
       "1         531.320092  390.560070"
      ]
     },
     "execution_count": 56,
     "metadata": {},
     "output_type": "execute_result"
    },
    {
     "data": {
      "image/png": "[encoded data removed]",
      "text/plain": [
       "<Figure size 640x480 with 1 Axes>"
      ]
     },
     "metadata": {},
     "output_type": "display_data"
    }
   ],
   "source": [
    "train_data.boxplot(column=['amt'],by = ['is_fraud'], color='blue', vert=True).set_yscale('log')\n",
    "plt.grid(False)\n",
    "plt.xlabel('is_fraud')\n",
    "plt.ylabel('Amount ($)')\n",
    "pd.DataFrame(train_data.groupby( ['is_fraud'])['amt'].describe().loc[:,['mean','std']])\n",
    "\n"
   ]
  },
  {
   "cell_type": "markdown",
   "id": "5a3b25a4",
   "metadata": {},
   "source": [
    "The boxplot shows that most of the fraud transactions are between `$100` and `$1000`. The non-fraud transactions are mostly between $10 to $100, however, it goes up to about $10,000. "
   ]
  },
  {
   "cell_type": "markdown",
   "id": "bf38e5e4",
   "metadata": {},
   "source": [
    "## city_pop"
   ]
  },
  {
   "cell_type": "code",
   "execution_count": 40,
   "id": "c3b9c4cb",
   "metadata": {},
   "outputs": [
    {
     "data": {
      "text/plain": [
       "608        2906700\n",
       "1587       2906700\n",
       "1977       2504700\n",
       "1990       2906700\n",
       "2189       2504700\n",
       "            ...   \n",
       "1295229    2906700\n",
       "1295503    2504700\n",
       "1295580    2906700\n",
       "1295652    2906700\n",
       "1296331    2906700\n",
       "Name: city_pop, Length: 6722, dtype: int64"
      ]
     },
     "execution_count": 40,
     "metadata": {},
     "output_type": "execute_result"
    }
   ],
   "source": [
    "#Filter the `city_pop` column to find the values greater than 2e6\n",
    "train_data.city_pop[train_data.city_pop > 2e6]"
   ]
  },
  {
   "cell_type": "code",
   "execution_count": 41,
   "id": "dfce8fe3",
   "metadata": {},
   "outputs": [
    {
     "data": {
      "text/plain": [
       "Houston        4168\n",
       "Brooklyn       2033\n",
       "Los Angeles     521\n",
       "Name: city, dtype: int64"
      ]
     },
     "execution_count": 41,
     "metadata": {},
     "output_type": "execute_result"
    }
   ],
   "source": [
    "#check which cities have more than 2e6 population\n",
    "train_data['city'][train_data['city_pop']>2e6].value_counts()"
   ]
  },
  {
   "cell_type": "markdown",
   "id": "e1b4f0c2",
   "metadata": {},
   "source": [
    "Checking the population of these cities online, seems like the populations are correctly reported so we can leave this column as is. "
   ]
  },
  {
   "cell_type": "markdown",
   "id": "0dccad23",
   "metadata": {},
   "source": [
    "## trans_year"
   ]
  },
  {
   "cell_type": "code",
   "execution_count": 42,
   "id": "ff03e7f0",
   "metadata": {},
   "outputs": [
    {
     "data": {
      "text/plain": [
       "Series([], Name: trans_year, dtype: int64)"
      ]
     },
     "execution_count": 42,
     "metadata": {},
     "output_type": "execute_result"
    }
   ],
   "source": [
    "#Filter the `trans_year` column to find the negative values \n",
    "train_data['trans_year'][train_data['trans_year'] < 0]\n"
   ]
  },
  {
   "cell_type": "code",
   "execution_count": 43,
   "id": "37fbcf08",
   "metadata": {},
   "outputs": [
    {
     "data": {
      "text/plain": [
       "array([2019, 2020])"
      ]
     },
     "execution_count": 43,
     "metadata": {},
     "output_type": "execute_result"
    }
   ],
   "source": [
    "train_data['trans_year'].unique()"
   ]
  },
  {
   "cell_type": "markdown",
   "id": "461d315f",
   "metadata": {},
   "source": [
    "There is no negative value in the trans_year column and it only contains 2019 and 2020. We need to look into this in more detail in the next step. "
   ]
  },
  {
   "cell_type": "code",
   "execution_count": 44,
   "id": "50757e26",
   "metadata": {},
   "outputs": [
    {
     "name": "stdout",
     "output_type": "stream",
     "text": [
      "A file already exists with this name.\n",
      "\n",
      "Do you want to overwrite? (Y/N)Y\n",
      "Writing file.  \"../data/train_data_cleaned.csv\"\n"
     ]
    }
   ],
   "source": [
    "# save the data to a new csv file\n",
    "datapath = '../data'\n",
    "save_file(train_data, 'train_data_cleaned.csv', datapath)"
   ]
  },
  {
   "cell_type": "code",
   "execution_count": null,
   "id": "eead74a3",
   "metadata": {},
   "outputs": [],
   "source": []
  }
 ],
 "metadata": {
  "kernelspec": {
   "display_name": "Python 3 (ipykernel)",
   "language": "python",
   "name": "python3"
  },
  "language_info": {
   "codemirror_mode": {
    "name": "ipython",
    "version": 3
   },
   "file_extension": ".py",
   "mimetype": "text/x-python",
   "name": "python",
   "nbconvert_exporter": "python",
   "pygments_lexer": "ipython3",
   "version": "3.9.16"
  }
 },
 "nbformat": 4,
 "nbformat_minor": 5
}
