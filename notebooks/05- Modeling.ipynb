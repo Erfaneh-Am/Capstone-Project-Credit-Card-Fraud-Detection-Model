{
 "cells": [
  {
   "cell_type": "markdown",
   "id": "7847f3ee",
   "metadata": {},
   "source": [
    "# 5 Modeling"
   ]
  },
  {
   "cell_type": "markdown",
   "id": "40775638",
   "metadata": {},
   "source": [
    "## 5.1 Imports"
   ]
  },
  {
   "cell_type": "code",
   "execution_count": 1,
   "id": "7fadecc7",
   "metadata": {},
   "outputs": [],
   "source": [
    "import pandas as pd\n",
    "import numpy as np\n",
    "import os\n",
    "import pickle\n",
    "import matplotlib.pyplot as plt\n",
    "import seaborn as sns\n",
    "from sklearn import __version__ as sklearn_version\n",
    "from sklearn.model_selection import cross_validate, GridSearchCV\n",
    "from sklearn.metrics import confusion_matrix\n",
    "from sklearn.metrics import accuracy_score, confusion_matrix\n",
    "from sklearn import tree, metrics"
   ]
  },
  {
   "cell_type": "markdown",
   "id": "2ff2929c",
   "metadata": {},
   "source": [
    "## 5.2 Load Model"
   ]
  },
  {
   "cell_type": "code",
   "execution_count": 2,
   "id": "192a608e",
   "metadata": {},
   "outputs": [],
   "source": [
    "expected_model_version = '1.0'\n",
    "model_path = '../models/credit_card_fraud_detection_model.pkl'\n",
    "if os.path.exists(model_path):\n",
    "    with open(model_path, 'rb') as f:\n",
    "        model = pickle.load(f)\n",
    "    if model.version != expected_model_version:\n",
    "        print(\"Expected model version doesn't match version loaded\")\n",
    "    if model.sklearn_version != sklearn_version:\n",
    "        print(\"Warning: model created under different sklearn version\")\n",
    "else:\n",
    "    print(\"Expected model not found\")"
   ]
  },
  {
   "cell_type": "markdown",
   "id": "54887dc1",
   "metadata": {},
   "source": [
    "## 5.3 Load Data"
   ]
  },
  {
   "cell_type": "code",
   "execution_count": 3,
   "id": "0ce8ebfb",
   "metadata": {},
   "outputs": [],
   "source": [
    "df= pd.read_csv('../Data/step3_features.csv')\n",
    "test_data= pd.read_csv('../Data/Test_data.csv')"
   ]
  },
  {
   "cell_type": "code",
   "execution_count": 4,
   "id": "da49254c",
   "metadata": {},
   "outputs": [
    {
     "data": {
      "text/html": [
       "<div>\n",
       "<style scoped>\n",
       "    .dataframe tbody tr th:only-of-type {\n",
       "        vertical-align: middle;\n",
       "    }\n",
       "\n",
       "    .dataframe tbody tr th {\n",
       "        vertical-align: top;\n",
       "    }\n",
       "\n",
       "    .dataframe thead th {\n",
       "        text-align: right;\n",
       "    }\n",
       "</style>\n",
       "<table border=\"1\" class=\"dataframe\">\n",
       "  <thead>\n",
       "    <tr style=\"text-align: right;\">\n",
       "      <th></th>\n",
       "      <th>account_number</th>\n",
       "      <th>merchant</th>\n",
       "      <th>trans_amount</th>\n",
       "      <th>first_name</th>\n",
       "      <th>last_name</th>\n",
       "      <th>street</th>\n",
       "      <th>city</th>\n",
       "      <th>state</th>\n",
       "      <th>zip</th>\n",
       "      <th>lat</th>\n",
       "      <th>...</th>\n",
       "      <th>category_health_fitness</th>\n",
       "      <th>category_home</th>\n",
       "      <th>category_kids_pets</th>\n",
       "      <th>category_misc_net</th>\n",
       "      <th>category_misc_pos</th>\n",
       "      <th>category_personal_care</th>\n",
       "      <th>category_shopping_net</th>\n",
       "      <th>category_shopping_pos</th>\n",
       "      <th>category_travel</th>\n",
       "      <th>gender_M</th>\n",
       "    </tr>\n",
       "  </thead>\n",
       "  <tbody>\n",
       "    <tr>\n",
       "      <th>0</th>\n",
       "      <td>2703186189652095</td>\n",
       "      <td>fraud_Rippin, Kub and Mann</td>\n",
       "      <td>4.97</td>\n",
       "      <td>Jennifer</td>\n",
       "      <td>Banks</td>\n",
       "      <td>561 Perry Cove</td>\n",
       "      <td>Moravian Falls</td>\n",
       "      <td>NC</td>\n",
       "      <td>28654</td>\n",
       "      <td>36.0788</td>\n",
       "      <td>...</td>\n",
       "      <td>0</td>\n",
       "      <td>0</td>\n",
       "      <td>0</td>\n",
       "      <td>1</td>\n",
       "      <td>0</td>\n",
       "      <td>0</td>\n",
       "      <td>0</td>\n",
       "      <td>0</td>\n",
       "      <td>0</td>\n",
       "      <td>0</td>\n",
       "    </tr>\n",
       "    <tr>\n",
       "      <th>1</th>\n",
       "      <td>630423337322</td>\n",
       "      <td>fraud_Heller, Gutmann and Zieme</td>\n",
       "      <td>107.23</td>\n",
       "      <td>Stephanie</td>\n",
       "      <td>Gill</td>\n",
       "      <td>43039 Riley Greens Suite 393</td>\n",
       "      <td>Orient</td>\n",
       "      <td>WA</td>\n",
       "      <td>99160</td>\n",
       "      <td>48.8878</td>\n",
       "      <td>...</td>\n",
       "      <td>0</td>\n",
       "      <td>0</td>\n",
       "      <td>0</td>\n",
       "      <td>0</td>\n",
       "      <td>0</td>\n",
       "      <td>0</td>\n",
       "      <td>0</td>\n",
       "      <td>0</td>\n",
       "      <td>0</td>\n",
       "      <td>0</td>\n",
       "    </tr>\n",
       "    <tr>\n",
       "      <th>2</th>\n",
       "      <td>38859492057661</td>\n",
       "      <td>fraud_Lind-Buckridge</td>\n",
       "      <td>220.11</td>\n",
       "      <td>Edward</td>\n",
       "      <td>Sanchez</td>\n",
       "      <td>594 White Dale Suite 530</td>\n",
       "      <td>Malad City</td>\n",
       "      <td>ID</td>\n",
       "      <td>83252</td>\n",
       "      <td>42.1808</td>\n",
       "      <td>...</td>\n",
       "      <td>0</td>\n",
       "      <td>0</td>\n",
       "      <td>0</td>\n",
       "      <td>0</td>\n",
       "      <td>0</td>\n",
       "      <td>0</td>\n",
       "      <td>0</td>\n",
       "      <td>0</td>\n",
       "      <td>0</td>\n",
       "      <td>1</td>\n",
       "    </tr>\n",
       "    <tr>\n",
       "      <th>3</th>\n",
       "      <td>3534093764340240</td>\n",
       "      <td>fraud_Kutch, Hermiston and Farrell</td>\n",
       "      <td>45.00</td>\n",
       "      <td>Jeremy</td>\n",
       "      <td>White</td>\n",
       "      <td>9443 Cynthia Court Apt. 038</td>\n",
       "      <td>Boulder</td>\n",
       "      <td>MT</td>\n",
       "      <td>59632</td>\n",
       "      <td>46.2306</td>\n",
       "      <td>...</td>\n",
       "      <td>0</td>\n",
       "      <td>0</td>\n",
       "      <td>0</td>\n",
       "      <td>0</td>\n",
       "      <td>0</td>\n",
       "      <td>0</td>\n",
       "      <td>0</td>\n",
       "      <td>0</td>\n",
       "      <td>0</td>\n",
       "      <td>1</td>\n",
       "    </tr>\n",
       "    <tr>\n",
       "      <th>4</th>\n",
       "      <td>375534208663984</td>\n",
       "      <td>fraud_Keeling-Crist</td>\n",
       "      <td>41.96</td>\n",
       "      <td>Tyler</td>\n",
       "      <td>Garcia</td>\n",
       "      <td>408 Bradley Rest</td>\n",
       "      <td>Doe Hill</td>\n",
       "      <td>VA</td>\n",
       "      <td>24433</td>\n",
       "      <td>38.4207</td>\n",
       "      <td>...</td>\n",
       "      <td>0</td>\n",
       "      <td>0</td>\n",
       "      <td>0</td>\n",
       "      <td>0</td>\n",
       "      <td>1</td>\n",
       "      <td>0</td>\n",
       "      <td>0</td>\n",
       "      <td>0</td>\n",
       "      <td>0</td>\n",
       "      <td>1</td>\n",
       "    </tr>\n",
       "  </tbody>\n",
       "</table>\n",
       "<p>5 rows × 37 columns</p>\n",
       "</div>"
      ],
      "text/plain": [
       "     account_number                            merchant  trans_amount  \\\n",
       "0  2703186189652095          fraud_Rippin, Kub and Mann          4.97   \n",
       "1      630423337322     fraud_Heller, Gutmann and Zieme        107.23   \n",
       "2    38859492057661                fraud_Lind-Buckridge        220.11   \n",
       "3  3534093764340240  fraud_Kutch, Hermiston and Farrell         45.00   \n",
       "4   375534208663984                 fraud_Keeling-Crist         41.96   \n",
       "\n",
       "  first_name last_name                        street            city state  \\\n",
       "0   Jennifer     Banks                561 Perry Cove  Moravian Falls    NC   \n",
       "1  Stephanie      Gill  43039 Riley Greens Suite 393          Orient    WA   \n",
       "2     Edward   Sanchez      594 White Dale Suite 530      Malad City    ID   \n",
       "3     Jeremy     White   9443 Cynthia Court Apt. 038         Boulder    MT   \n",
       "4      Tyler    Garcia              408 Bradley Rest        Doe Hill    VA   \n",
       "\n",
       "     zip      lat  ...  category_health_fitness  category_home  \\\n",
       "0  28654  36.0788  ...                        0              0   \n",
       "1  99160  48.8878  ...                        0              0   \n",
       "2  83252  42.1808  ...                        0              0   \n",
       "3  59632  46.2306  ...                        0              0   \n",
       "4  24433  38.4207  ...                        0              0   \n",
       "\n",
       "  category_kids_pets category_misc_net  category_misc_pos  \\\n",
       "0                  0                 1                  0   \n",
       "1                  0                 0                  0   \n",
       "2                  0                 0                  0   \n",
       "3                  0                 0                  0   \n",
       "4                  0                 0                  1   \n",
       "\n",
       "   category_personal_care  category_shopping_net  category_shopping_pos  \\\n",
       "0                       0                      0                      0   \n",
       "1                       0                      0                      0   \n",
       "2                       0                      0                      0   \n",
       "3                       0                      0                      0   \n",
       "4                       0                      0                      0   \n",
       "\n",
       "   category_travel  gender_M  \n",
       "0                0         0  \n",
       "1                0         0  \n",
       "2                0         1  \n",
       "3                0         1  \n",
       "4                0         1  \n",
       "\n",
       "[5 rows x 37 columns]"
      ]
     },
     "execution_count": 4,
     "metadata": {},
     "output_type": "execute_result"
    }
   ],
   "source": [
    "df.head()"
   ]
  },
  {
   "cell_type": "markdown",
   "id": "19ae84e2",
   "metadata": {},
   "source": [
    "## 5.5 Predict The Test Data Using The Best Model"
   ]
  },
  {
   "cell_type": "code",
   "execution_count": 5,
   "id": "8053914b",
   "metadata": {},
   "outputs": [],
   "source": [
    "# Use test data from train-test split in the training step to evaluate model performance \n",
    "\n",
    "X_test= test_data.drop(columns=['is_fraud'])\n",
    "y_test= test_data['is_fraud']"
   ]
  },
  {
   "cell_type": "code",
   "execution_count": 6,
   "id": "0e0b11f6",
   "metadata": {},
   "outputs": [
    {
     "data": {
      "text/plain": [
       "((324169, 28), (324169,))"
      ]
     },
     "execution_count": 6,
     "metadata": {},
     "output_type": "execute_result"
    }
   ],
   "source": [
    "X_test.shape, y_test.shape"
   ]
  },
  {
   "cell_type": "code",
   "execution_count": 7,
   "id": "439cb266",
   "metadata": {},
   "outputs": [],
   "source": [
    "y_test_pred = model.predict(X_test) "
   ]
  },
  {
   "cell_type": "code",
   "execution_count": 8,
   "id": "3172c9ef",
   "metadata": {},
   "outputs": [
    {
     "name": "stdout",
     "output_type": "stream",
     "text": [
      "Model: RandomForest Model Best Estimator\n",
      "Accuracy: 0.9816268674672779\n",
      "Balanced accuracy: 0.9454738075389049\n",
      "Precision score: 0.2277399546122013\n",
      "Recall score: 0.9088971763452317\n",
      "F1 score: 0.3642186165670367\n"
     ]
    }
   ],
   "source": [
    "# model evaluation \n",
    "print(\"Model: RandomForest Model Best Estimator\")\n",
    "print(\"Accuracy:\", metrics.accuracy_score(y_test,y_test_pred))\n",
    "print(\"Balanced accuracy:\", metrics.balanced_accuracy_score(y_test,y_test_pred))\n",
    "print('Precision score:' , metrics.precision_score(y_test,y_test_pred))\n",
    "print('Recall score:' , metrics.recall_score(y_test,y_test_pred))\n",
    "print('F1 score:' , metrics.f1_score(y_test,y_test_pred))"
   ]
  },
  {
   "cell_type": "code",
   "execution_count": 9,
   "id": "27f91938",
   "metadata": {},
   "outputs": [
    {
     "data": {
      "image/png": "[encoded data removed]",
      "text/plain": [
       "<Figure size 500x500 with 1 Axes>"
      ]
     },
     "metadata": {},
     "output_type": "display_data"
    }
   ],
   "source": [
    "conf_matrix = confusion_matrix(y_true=y_test, y_pred=y_test_pred)\n",
    "\n",
    "# Print the confusion matrix using Matplotlib\n",
    "\n",
    "fig, ax = plt.subplots(figsize=(5, 5))\n",
    "ax.matshow(conf_matrix, cmap=plt.cm.Blues, alpha=0.3)\n",
    "for i in range(conf_matrix.shape[0]):\n",
    "    for j in range(conf_matrix.shape[1]):\n",
    "        ax.text(x=j, y=i,s=conf_matrix[i, j], va='center', ha='center')\n",
    "\n",
    "plt.xlabel('Predictions', fontsize=18)\n",
    "plt.ylabel('Actuals', fontsize=18)\n",
    "plt.title('Confusion Matrix Using the Gini Model', fontsize=18)\n",
    "plt.show()"
   ]
  },
  {
   "cell_type": "code",
   "execution_count": 10,
   "id": "4628f933",
   "metadata": {},
   "outputs": [
    {
     "data": {
      "text/plain": [
       "0.01794956126742209"
      ]
     },
     "execution_count": 10,
     "metadata": {},
     "output_type": "execute_result"
    }
   ],
   "source": [
    "fpr= 5785/(5785+316507)\n",
    "fpr"
   ]
  },
  {
   "cell_type": "markdown",
   "id": "66f5ac0f",
   "metadata": {},
   "source": [
    ">Therefore, our random forest model with criterion= entropy and max_depth=9 could accurately classify 90% of the fraud transactions. Even though some false positive can be seen in the results, the false positive rate is only about 1.8% which can be negligible since in this case we care more about the false negatives and would like to minimize the number of fraud transactions that mistakely classified as valid transactions. Here, about 10% of the fraud transactions are mistakenly classified as valid transactions. The model can be further improved by doing more feature engineering for example adding more features to calculate the time difference between the transactions and the distance difference using latitude and longitude of the merchant. "
   ]
  },
  {
   "cell_type": "code",
   "execution_count": null,
   "id": "6da69a3f",
   "metadata": {},
   "outputs": [],
   "source": []
  }
 ],
 "metadata": {
  "kernelspec": {
   "display_name": "Python 3 (ipykernel)",
   "language": "python",
   "name": "python3"
  },
  "language_info": {
   "codemirror_mode": {
    "name": "ipython",
    "version": 3
   },
   "file_extension": ".py",
   "mimetype": "text/x-python",
   "name": "python",
   "nbconvert_exporter": "python",
   "pygments_lexer": "ipython3",
   "version": "3.9.16"
  }
 },
 "nbformat": 4,
 "nbformat_minor": 5
}
